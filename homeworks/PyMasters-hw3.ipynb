{
 "cells": [
  {
   "cell_type": "markdown",
   "metadata": {},
   "source": [
    "## Домашнее задание №3 \n",
    "\n",
    "*Задачи 6-7 заимствованы из [домашнего задания](http://nbviewer.jupyter.org/url/python.math-hse.info/static/assignments_release/dj2017/ps02/ps02.ipynb) по [курсу](http://math-info.hse.ru/s17/1) «Введение в программирование» (Магистерская программа «Журналистика данных», НИУ ВШЭ, 2017-18). *\n",
    "\n",
    "За разные задачи можно получить разное число баллов. Если не указано обратное, задача весит 1 балл. Максимум за ДЗ можно набрать 6 баллов. Вы можете решить больше задач, чем требуется, чтобы потренироваться.\n",
    "\n",
    "Для предварительной проверки задания нужно сделать следующее:\n",
    "\n",
    "1. Скачать данный `ipynb`-файл на свой компьютер, открыть его в IPython Notebook/Jupyter.\n",
    "2. Активировать тесты (см. ниже).\n",
    "3. Вставить решение каждой задачи в ячейку для кода, следующую за его условием, там, где написан комментарий `# YOUR CODE HERE`. Отступ вашего кода должен составлять 4 пробела. Ничего не менять вокруг!\n",
    "4. Запустить ячейку, в которую вы вставили код с решением. Ввести какие-то входные данные, проверить визуально правильность вывода.\n",
    "5. Запустить следующую ячейку (в ней содержится тест). Если запуск ячейки с тестом не приводит к появлению ошибки (assertion), значит, всё в порядке, задача решена. Если приводит к появлению ошибки, значит, тест не пройден и нужно искать ошибку.\n",
    "\n",
    "**Внимание!** Если в какой-то момент забыть ввести входные данные и перейти на следующую ячейку, есть риск, что Notebook перестанет откликаться. В этом случае надо перезапустить ядро: *Kernel → Restart*. При этом потеряются все значения переменных, но сам код останется.\n",
    "\n",
    "Чтобы сдать ДЗ, его надо загрузить в [nbgr-x](http://python.math-hse.info) в виде `ipynb`-файла. Получить `ipynb`-файл можно, выбрав в Jupyter пункт меню *File → Download as... → IPython Notebook (.ipynb)*."
   ]
  },
  {
   "cell_type": "markdown",
   "metadata": {},
   "source": [
    "### Активировать тесты\n",
    "Запустите следующие ячейку, чтобы иметь возможность запускать тесты. Эту операцию нужно проделывать каждый раз, когда вы перезапускаете ядро. Если какой-то из тестов говорит `NameError: name 'Tester' is not defined`, нужно запустить эту ячейку ещё раз."
   ]
  },
  {
   "cell_type": "code",
   "execution_count": null,
   "metadata": {},
   "outputs": [],
   "source": [
    "# Фабрика тестов для проверки программ, принимающих данные через input()\n",
    "\n",
    "from collections import deque\n",
    "\n",
    "class Tester(object):\n",
    "    def __init__(self, inp):\n",
    "        self.outputs = []\n",
    "        self.inputs = deque(inp)\n",
    "    def print(self, *args, sep = \" \", end = \"\\n\"):\n",
    "        text = sep.join(map(str, args)) + end\n",
    "        newlines = text.splitlines(keepends=True)\n",
    "        if self.outputs and self.outputs[-1] and self.outputs[-1][-1] != \"\\n\" and newlines:\n",
    "            self.outputs[-1] += newlines[0]\n",
    "            self.outputs.extend(newlines[1:])\n",
    "        else:\n",
    "            self.outputs.extend(newlines)\n",
    "            \n",
    "    def input(self, *args):\n",
    "        assert self.inputs, \"Вы пытаетесь считать больше элементов, чем предусмотрено условием\"\n",
    "        return self.inputs.popleft()\n",
    "    def __enter__(self):\n",
    "        global print\n",
    "        global input\n",
    "        print = self.print\n",
    "        input = self.input\n",
    "        return self.outputs\n",
    "    def __exit__(self, *args):\n",
    "        global print\n",
    "        global input\n",
    "        del print\n",
    "        del input"
   ]
  },
  {
   "cell_type": "markdown",
   "metadata": {},
   "source": [
    "### Задача 1\n",
    "\n",
    "Напишите программу, которая запрашивает у пользователя с клавиатуры целое число, а выводит на экран список из двух элементов: целое число, предшествующее ему, и целое число, следующее за ним.\n",
    "\n",
    "**Примеры:**\n",
    "\n",
    "*Входные данные:*\n",
    "\n",
    "    2\n",
    "\n",
    "*Выходные данные:*\n",
    "\n",
    "    [1, 3]\n",
    "    \n",
    "*Входные данные:*\n",
    "\n",
    "    0\n",
    "\n",
    "*Выходные данные:*\n",
    "\n",
    "    [-1, 1]"
   ]
  },
  {
   "cell_type": "code",
   "execution_count": null,
   "metadata": {},
   "outputs": [],
   "source": [
    "def prev_next():\n",
    "    # YOUR CODE HERE \n",
    "    \n",
    "prev_next()    "
   ]
  },
  {
   "cell_type": "code",
   "execution_count": null,
   "metadata": {},
   "outputs": [],
   "source": [
    "test_data = [\n",
    "    (\"2\", [1, 3]),\n",
    "    (\"0\", [-1, 1]),\n",
    "    (\"-1\", [-2, 0]),\n",
    "    (\"101\", [100, 102]),\n",
    "    (\"-10\", [-11, -9])\n",
    "]\n",
    "\n",
    "for inp, out in test_data:\n",
    "    with Tester([inp]) as t:\n",
    "        prev_next()\n",
    "        assert len(t) == 1, \"Вам нужно вывести ровно одну строку с ответом\"\n",
    "        assert t[0] == str(out) + \"\\n\", \"Неверный ответ, была введена строка \" + inp"
   ]
  },
  {
   "cell_type": "markdown",
   "metadata": {},
   "source": [
    "### Задача 2\n",
    "\n",
    "Вася, студент второго курса образовательной программы с многообещающим названием, подрабатывает репетитором по английскому языку. Дан список его доходов за неделю:\n",
    "\n",
    "    income = [2500, 0, 5000, 2500, 3000, 2500, 0]\n",
    "\n",
    "Напишите программу, которая запрашивает у пользователя с клавиатуры число дней с начала недели, а возвращает сумму, заработанную Васей за все эти дни.\n",
    "\n",
    "**Примеры:**\n",
    "\n",
    "*Входные данные:*\n",
    "\n",
    "    4\n",
    "\n",
    "*Выходные данные:*\n",
    "\n",
    "    10000\n",
    "    \n",
    "*Входные данные:*\n",
    "\n",
    "    2\n",
    "\n",
    "*Выходные данные:*\n",
    "\n",
    "    2500\n",
    "    \n",
    "*Входные данные:*\n",
    "\n",
    "    0\n",
    "\n",
    "*Выходные данные:*\n",
    "\n",
    "    0\n",
    "    \n",
    "**Подсказка:** сумму элементов списка можно получить с помощью функции `sum()`:\n",
    "\n",
    "    sum([4, 6, 0])\n",
    "    10"
   ]
  },
  {
   "cell_type": "code",
   "execution_count": null,
   "metadata": {},
   "outputs": [],
   "source": [
    "def earnings():\n",
    "    income = [2500, 0, 5000, 2500, 3000, 2500, 0]\n",
    "    \n",
    "    # YOUR CODE HERE\n",
    "    \n",
    "earnings()"
   ]
  },
  {
   "cell_type": "code",
   "execution_count": null,
   "metadata": {},
   "outputs": [],
   "source": [
    "test_data = [\n",
    "    (\"0\", \"0\"),\n",
    "    (\"1\", \"2500\"),\n",
    "    (\"2\", \"2500\"),\n",
    "    (\"3\", \"7500\"),\n",
    "    (\"4\", \"10000\"),\n",
    "    (\"5\", \"13000\"),\n",
    "    (\"6\", \"15500\"),\n",
    "    (\"7\", \"15500\")\n",
    "]\n",
    "\n",
    "for inp, out in test_data:\n",
    "    with Tester([inp]) as t:\n",
    "        earnings()\n",
    "        assert len(t) == 1, \"Вам нужно вывести ровно одну строку с ответом\"\n",
    "        assert t[0] == out+\"\\n\", \"Неверный ответ, была введена строка \" + inp"
   ]
  },
  {
   "cell_type": "markdown",
   "metadata": {},
   "source": [
    "### Задача 3\n",
    "\n",
    "Дан список станций желтой ветки московского метро (упорядочены как на карте):\n",
    "\n",
    "    line = [\"Третьяковская\", \"Марксистская\", \"Площадь Ильича\", \"Авиамоторная\", \"Шоссе Энтузиастов\",\n",
    "    \"Перово\", \"Новогиреево\", \"Новокосино\"]\n",
    "\n",
    "Давайте считать, что движение происходит от Третьяковской до Новокосино.\n",
    "\n",
    "Напишите программу, которая запрашивает у пользователя название текущей станции метро (без лишнего пробела на конце) и выводит на экран сообщение вида\n",
    "\n",
    "    Следующая станция: станция.\n",
    "\n",
    "Считайте, что пользователь знает, какая станция конечная, и не будет запрашивать станцию, следующую после Новокосино.\n",
    "\n",
    "**Пример:**\n",
    "\n",
    "*Входные данные:*\n",
    "\n",
    "    Введите текущую станцию: Площадь Ильича\n",
    "\n",
    "*Выходные данные:*\n",
    "\n",
    "    Следующая станция: Авиамоторная\n",
    "\n",
    "**Подсказка:**\n",
    "\n",
    "Чтобы вернуть индекс определенного элемента в списке, нужно воспользоваться методом `.index()`. Пример:\n",
    "\n",
    "    names = [\"Anna\", \"Ella\", \"Max\"]\n",
    "    names.index(\"Ella\")\n",
    "    1"
   ]
  },
  {
   "cell_type": "code",
   "execution_count": null,
   "metadata": {
    "deletable": false,
    "nbgrader": {
     "checksum": "4eb47abd4771cbb606e8bfc70a9fb56e",
     "grade": false,
     "grade_id": "p2",
     "locked": false,
     "schema_version": 1,
     "solution": true
    }
   },
   "outputs": [],
   "source": [
    "def metro():\n",
    "    line = [\"Третьяковская\", \"Марксистская\", \"Площадь Ильича\", \"Авиамоторная\", \"Шоссе Энтузиастов\",\n",
    "    \"Перово\", \"Новогиреево\", \"Новокосино\"]\n",
    "    \n",
    "    # YOUR CODE HERE\n",
    "\n",
    "metro()"
   ]
  },
  {
   "cell_type": "code",
   "execution_count": null,
   "metadata": {
    "deletable": false,
    "nbgrader": {
     "checksum": "0b0063423d133df289a3bd667a9a3eb6",
     "grade": true,
     "grade_id": "p2-test",
     "locked": true,
     "points": 1,
     "schema_version": 1,
     "solution": false
    }
   },
   "outputs": [],
   "source": [
    "test_data = [\n",
    "    (\"Третьяковская\", \"Следующая станция: Марксистская\"),\n",
    "    (\"Марксистская\", \"Следующая станция: Площадь Ильича\"),\n",
    "    (\"Площадь Ильича\", \"Следующая станция: Авиамоторная\"),\n",
    "    (\"Авиамоторная\", \"Следующая станция: Шоссе Энтузиастов\"),\n",
    "    (\"Шоссе Энтузиастов\",\"Следующая станция: Перово\"),\n",
    "    (\"Перово\", \"Следующая станция: Новогиреево\"),\n",
    "    (\"Новогиреево\", \"Следующая станция: Новокосино\")\n",
    "]\n",
    "\n",
    "for inp, out in test_data:\n",
    "    with Tester([inp]) as t:\n",
    "        metro()\n",
    "        assert len(t) == 1, \"Вам нужно вывести ровно одну строку с ответом\"\n",
    "        assert t[0] == out+\"\\n\", \"Неверный ответ, была введена строка \" + inp"
   ]
  },
  {
   "cell_type": "markdown",
   "metadata": {},
   "source": [
    "### Задача 4\n",
    "\n",
    "Напишите программу, которая принимает на вход список неотрицательных чисел `N` и выводит на экран список квадратных корней из этих чисел (конечно, вычисление квадратных корней должно выполняться не вручную, хотя числа простые).\n",
    "\n",
    "**Пример:**\n",
    "\n",
    "*Входные данные:*\n",
    "\n",
    "    L = [9, 16, 25, 36, 100, 81]\n",
    "\n",
    "*Выходные данные:*\n",
    "\n",
    "    [3.0, 4.0, 5.0, 6.0, 10.0, 9.0]"
   ]
  },
  {
   "cell_type": "code",
   "execution_count": null,
   "metadata": {},
   "outputs": [],
   "source": [
    "def my_sqrt():\n",
    "    L = [9, 16, 25, 36, 100, 81]\n",
    "    \n",
    "    # YOUR CODE HERE\n",
    "    \n",
    "my_sqrt()"
   ]
  },
  {
   "cell_type": "code",
   "execution_count": null,
   "metadata": {},
   "outputs": [],
   "source": [
    "test_data = [([9, 16, 25, 36, 100, 81], \"[3.0, 4.0, 5.0, 6.0, 10.0, 9.0]\")]\n",
    "for inp, out in test_data:\n",
    "    with Tester([inp]) as t:\n",
    "        my_sqrt()\n",
    "        assert len(t) == 1, \"Вам нужно вывести ровно одну строку с ответом\"\n",
    "        assert str(t[0]) == out+\"\\n\", \"Неверный ответ, была введена строка \" + str(inp)"
   ]
  },
  {
   "cell_type": "markdown",
   "metadata": {},
   "source": [
    "### Задача 5\n",
    "\n",
    "Напишите программу, которая принимает на вход список слов такого вида:\n",
    "\n",
    "    words = [\"Speak \",\"to\", \"me \", \"of\", \"Florence\" ,\"And \", \"of\", \"the\", \"Renaissance\"]\n",
    "\n",
    "и выводит на экран список\n",
    "\n",
    "    words_clean = [\"speak\", \"to\", \"me\", \"of\", \"florence\", \"and\", \"of\", \"the\", \"renaissance\"]\n",
    "\n",
    "Другими словами, программа убирает пробелы в словах и приводит все слова к нижнему регистру.\n",
    "\n",
    "**Подсказка:** используйте методы для строк `.strip()` и `.lower()`. Примеры:\n",
    "\n",
    "    s = \" ABC \"\n",
    "    s = s.strip()  # убирает лишние пробелы по краям\n",
    "    s\n",
    "    \"ABC\"\n",
    "    \n",
    "    s = a.lower()  # приводит все к нижнему регистру\n",
    "    s\n",
    "    \"abc\""
   ]
  },
  {
   "cell_type": "code",
   "execution_count": null,
   "metadata": {},
   "outputs": [],
   "source": [
    "def text_normalize():\n",
    "    words = [\"Speak \",\"to\", \"me \", \"of\", \"Florence\" ,\"And \", \"of\", \"the\", \"Renaissance\"]\n",
    "    \n",
    "    # YOUR CODE HERE\n",
    "    \n",
    "text_normalize()"
   ]
  },
  {
   "cell_type": "code",
   "execution_count": null,
   "metadata": {},
   "outputs": [],
   "source": [
    "test_data = [([\"Speak \",\"to\", \"me \", \"of\", \"Florence\" ,\"And \", \"of\", \"the\", \"Renaissance\"],\n",
    "              [\"speak\", \"to\", \"me\", \"of\", \"florence\", \"and\", \"of\", \"the\", \"renaissance\"])]\n",
    "for inp, out in test_data:\n",
    "    with Tester([inp]) as t:\n",
    "        text_normalize()\n",
    "        assert len(t) == 1, \"Вам нужно вывести ровно одну строку с ответом\"\n",
    "        assert str(t[0]) == str(out)+\"\\n\", \"Неверный ответ, была введена строка \" + str(inp)"
   ]
  },
  {
   "cell_type": "markdown",
   "metadata": {},
   "source": [
    "### Задача 6 (2 балла)\n",
    "Факториалом натурального числа $n$ называется произведение всех натуральных чисел от 1 до $n$ включительно. Факториал $n$ обозначается $n!$. Например,\n",
    "$$\n",
    "4! = 1 \\times 2 \\times 3 \\times 4 = 24.\n",
    "$$\n",
    "Написать программу, запрашивающую натуральное число $n$ с клавиатуры, вычисляющую и печатающую $n!$. Использовать какие-либо библиотечные функции нельзя (то есть запрещена конструкция `import`).\n",
    "\n",
    "**Пример.**\n",
    "\n",
    "**Входные данные:**\n",
    "\n",
    "    5\n",
    "\n",
    "**Выходные данные:**\n",
    "\n",
    "    120"
   ]
  },
  {
   "cell_type": "code",
   "execution_count": null,
   "metadata": {
    "deletable": false,
    "nbgrader": {
     "checksum": "d61f7de752f5a7b69b9d41f3c52959cf",
     "grade": false,
     "grade_id": "p8",
     "locked": false,
     "schema_version": 1,
     "solution": true
    }
   },
   "outputs": [],
   "source": [
    "def my_fact():\n",
    "    # YOUR CODE HERE\n",
    "\n",
    "my_fact()"
   ]
  },
  {
   "cell_type": "code",
   "execution_count": null,
   "metadata": {
    "deletable": false,
    "nbgrader": {
     "checksum": "3a6bd639862def50c485166c59c10356",
     "grade": true,
     "grade_id": "p8_test",
     "locked": true,
     "points": 2,
     "schema_version": 1,
     "solution": false
    }
   },
   "outputs": [],
   "source": [
    "test_data = [\n",
    "    (\"1\", 1),\n",
    "    (\"2\", 2),\n",
    "    (\"3\", 6),\n",
    "    (\"4\", 24),\n",
    "    (\"5\", 120),\n",
    "    (\"10\", 3628800),\n",
    "    (\"20\", 2432902008176640000)\n",
    "]\n",
    "\n",
    "for inp, out in test_data:\n",
    "    with Tester([inp]) as t:\n",
    "        my_fact()\n",
    "        assert len(t) == 1, \"Вам нужно вывести ровно одну строку с ответом\"\n",
    "        assert t[0].strip() == str(out), \"Неверный ответ, были введены числа \" + inp\n",
    "print(\"Хорошо, давайте теперь что-нибудь посложнее решим!\")"
   ]
  },
  {
   "cell_type": "markdown",
   "metadata": {},
   "source": [
    "### Задача 7 (2 балла)\n",
    "Числа Фибоначчии — это последовательность чисел, заданная следующим образом:\n",
    "\n",
    "$$a_1 = 1,\\quad a_2 = 1, \\quad a_{k+1}=a_k+a_{k-1}$$\n",
    "\n",
    "Ввести число `k` с клавиатуры и вывести $a_k$. Считать, что число `k` всегда больше одного. (То есть на вход никогда не будет подано число, меньшее или равное одного.)\n",
    "\n",
    "\n",
    "**Пример.**\n",
    "\n",
    "    \n",
    "_Входные данные:_\n",
    "\n",
    "    3\n",
    "\n",
    "_Выходные данные:_\n",
    "\n",
    "    2\n",
    "  \n",
    "_Входные данные:_\n",
    "\n",
    "    5\n",
    "\n",
    "_Выходные данные:_\n",
    "\n",
    "    5\n",
    "  \n",
    "_Входные данные:_\n",
    "\n",
    "    6\n",
    "\n",
    "_Выходные данные:_\n",
    "\n",
    "    8"
   ]
  },
  {
   "cell_type": "code",
   "execution_count": null,
   "metadata": {
    "deletable": false,
    "nbgrader": {
     "checksum": "f4150c8a446c56db057305c890b947ec",
     "grade": false,
     "grade_id": "p9",
     "locked": false,
     "schema_version": 1,
     "solution": true
    }
   },
   "outputs": [],
   "source": [
    "def fib_k():\n",
    "    # YOUR CODE HERE\n",
    "    \n",
    "fib_k()"
   ]
  },
  {
   "cell_type": "code",
   "execution_count": null,
   "metadata": {
    "deletable": false,
    "nbgrader": {
     "checksum": "7ddb2b0ce496591ab2f50bd302428ddf",
     "grade": true,
     "grade_id": "p9_test",
     "locked": true,
     "points": 2,
     "schema_version": 1,
     "solution": false
    }
   },
   "outputs": [],
   "source": [
    "test_data = [(33, 3524578),\n",
    " (87, 679891637638612258),\n",
    " (66, 27777890035288),\n",
    " (43, 433494437),\n",
    " (44, 701408733),\n",
    " (19, 4181),\n",
    " (98, 135301852344706746049),\n",
    " (65, 17167680177565),\n",
    " (32, 2178309),\n",
    " (11, 89)]\n",
    "for inp, out in test_data:\n",
    "    with Tester([str(inp)]) as t:\n",
    "        fib_k()\n",
    "        assert len(t) == 1, \"Вам нужно вывести ровно одну строку с ответом\"\n",
    "        assert t[0].strip() == str(out), (\"Неверный ответ, было \"\n",
    "                                          \"введено число \" + str(inp) + \n",
    "                                         \" ожидалось \" + str(out))\n",
    "print(\"Ура, всё верно!\")"
   ]
  }
 ],
 "metadata": {
  "kernelspec": {
   "display_name": "Python 3",
   "language": "python",
   "name": "python3"
  },
  "language_info": {
   "codemirror_mode": {
    "name": "ipython",
    "version": 3
   },
   "file_extension": ".py",
   "mimetype": "text/x-python",
   "name": "python",
   "nbconvert_exporter": "python",
   "pygments_lexer": "ipython3",
   "version": "3.6.8"
  }
 },
 "nbformat": 4,
 "nbformat_minor": 2
}
