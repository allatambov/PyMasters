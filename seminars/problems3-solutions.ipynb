{
 "cells": [
  {
   "cell_type": "markdown",
   "metadata": {},
   "source": [
    "# Программирование для всех\n",
    "\n",
    "*Алла Тамбовцева, НИУ ВШЭ*"
   ]
  },
  {
   "cell_type": "markdown",
   "metadata": {},
   "source": [
    "### Задача 1\n",
    "Напишите функцию `square()`, которая принимает на вход число и:\n",
    "\n",
    "* возвращает его квадрат;\n",
    "* выводит на экран сообщение вида \"Квадрат числа равен: n\" и ничего не возвращает;\n",
    "* выводит на экран сообщение вида \"Квадрат числа равен: n\" и возвращает квадрат числа;"
   ]
  },
  {
   "cell_type": "code",
   "execution_count": 1,
   "metadata": {},
   "outputs": [],
   "source": [
    "# возвращает квадрат числа\n",
    "def square(x):\n",
    "    return x**2"
   ]
  },
  {
   "cell_type": "code",
   "execution_count": 2,
   "metadata": {},
   "outputs": [
    {
     "data": {
      "text/plain": [
       "36"
      ]
     },
     "execution_count": 2,
     "metadata": {},
     "output_type": "execute_result"
    }
   ],
   "source": [
    "square(6)"
   ]
  },
  {
   "cell_type": "code",
   "execution_count": 3,
   "metadata": {},
   "outputs": [
    {
     "data": {
      "text/plain": [
       "36"
      ]
     },
     "execution_count": 3,
     "metadata": {},
     "output_type": "execute_result"
    }
   ],
   "source": [
    "res1 = square(6)\n",
    "res1 # результат сохранен"
   ]
  },
  {
   "cell_type": "code",
   "execution_count": 4,
   "metadata": {},
   "outputs": [],
   "source": [
    "# выводит на экран сообщение и ничего не возвращает\n",
    "def square2(x):\n",
    "    print(\"Квадрат числа равен: \", x**2)\n",
    "    # без return"
   ]
  },
  {
   "cell_type": "code",
   "execution_count": 5,
   "metadata": {},
   "outputs": [],
   "source": [
    "# или так (тот же код)\n",
    "def square2(x):\n",
    "    print(\"Квадрат числа равен: \", x**2)\n",
    "    # с пустым return\n",
    "    return"
   ]
  },
  {
   "cell_type": "code",
   "execution_count": 6,
   "metadata": {},
   "outputs": [
    {
     "name": "stdout",
     "output_type": "stream",
     "text": [
      "Квадрат числа равен:  36\n"
     ]
    }
   ],
   "source": [
    "square2(6)"
   ]
  },
  {
   "cell_type": "code",
   "execution_count": 7,
   "metadata": {},
   "outputs": [
    {
     "name": "stdout",
     "output_type": "stream",
     "text": [
      "Квадрат числа равен:  36\n"
     ]
    }
   ],
   "source": [
    "res2 = square2(6)\n",
    "res2 # результат не сохранен"
   ]
  },
  {
   "cell_type": "code",
   "execution_count": 8,
   "metadata": {},
   "outputs": [
    {
     "name": "stdout",
     "output_type": "stream",
     "text": [
      "None\n"
     ]
    }
   ],
   "source": [
    "print(res2) # вместо результата - пустота"
   ]
  },
  {
   "cell_type": "code",
   "execution_count": 9,
   "metadata": {},
   "outputs": [],
   "source": [
    "# и возвращает результат, и выводит сообщение\n",
    "def square3(x):\n",
    "    print(\"Квадрат числа равен: \", x**2)\n",
    "    return x**2"
   ]
  },
  {
   "cell_type": "code",
   "execution_count": 10,
   "metadata": {},
   "outputs": [
    {
     "name": "stdout",
     "output_type": "stream",
     "text": [
      "Квадрат числа равен:  36\n"
     ]
    },
    {
     "data": {
      "text/plain": [
       "36"
      ]
     },
     "execution_count": 10,
     "metadata": {},
     "output_type": "execute_result"
    }
   ],
   "source": [
    "square3(6) "
   ]
  },
  {
   "cell_type": "code",
   "execution_count": 11,
   "metadata": {},
   "outputs": [
    {
     "name": "stdout",
     "output_type": "stream",
     "text": [
      "Квадрат числа равен:  36\n"
     ]
    },
    {
     "data": {
      "text/plain": [
       "36"
      ]
     },
     "execution_count": 11,
     "metadata": {},
     "output_type": "execute_result"
    }
   ],
   "source": [
    "res3 = square3(6)\n",
    "res3 # результат сохранен"
   ]
  },
  {
   "cell_type": "markdown",
   "metadata": {},
   "source": [
    "### Задача 2\n",
    "Напишите функцию `nums()`, которая принимает на вход целое число, а возвращает список из двух элементов: целое число, предшествующее принятому на вход, и число, следующее за ним.\n",
    "\n",
    "**Пример:**\n",
    "\n",
    "*Входные данные:*\n",
    "\n",
    "    7\n",
    "\n",
    "*Выходные данные:*\n",
    "\n",
    "    [6, 8]"
   ]
  },
  {
   "cell_type": "code",
   "execution_count": 13,
   "metadata": {},
   "outputs": [],
   "source": [
    "def nums(n):\n",
    "    return [n-1, n+1] "
   ]
  },
  {
   "cell_type": "code",
   "execution_count": 14,
   "metadata": {},
   "outputs": [
    {
     "data": {
      "text/plain": [
       "[-1, 1]"
      ]
     },
     "execution_count": 14,
     "metadata": {},
     "output_type": "execute_result"
    }
   ],
   "source": [
    "nums(0)"
   ]
  },
  {
   "cell_type": "markdown",
   "metadata": {},
   "source": [
    "### Задача 3\n",
    "Напишите функцию `my_log()`, которая принимает на вход список чисел, и возвращает список их натуральных логарифмов. Если число меньше или равно 0, на его месте в возвращаемом списке должно быть None.\n",
    "\n",
    "**Пример:**\n",
    "\n",
    "*Входные данные:*\n",
    "\n",
    "    [1, 3, 2.5, -1, 9, 0, 2.71]\n",
    "\n",
    "*Выходные данные:*\n",
    "\n",
    "    [0.0,\n",
    "     1.0986122886681098,\n",
    "     0.9162907318741551,\n",
    "     None,\n",
    "     2.1972245773362196,\n",
    "     None,\n",
    "     0.9969486348916096]"
   ]
  },
  {
   "cell_type": "code",
   "execution_count": 15,
   "metadata": {},
   "outputs": [],
   "source": [
    "# можно импортировать math внутри функции, \n",
    "# но тогда Python не будет понимать команды \n",
    "# с math за пределами my_log() \n",
    "# плюс, импорт обычно выносится за рамки функций\n",
    "\n",
    "import math \n",
    "def my_log(L):\n",
    "    logs = []\n",
    "    for i in L:\n",
    "        if i > 0:\n",
    "            logs.append(math.log(i))\n",
    "        else:\n",
    "            logs.append(None) # None без кавычек\n",
    "    return logs"
   ]
  },
  {
   "cell_type": "code",
   "execution_count": 16,
   "metadata": {},
   "outputs": [
    {
     "data": {
      "text/plain": [
       "[0.0,\n",
       " 1.0986122886681098,\n",
       " 0.9162907318741551,\n",
       " None,\n",
       " 2.1972245773362196,\n",
       " None,\n",
       " 0.9969486348916096]"
      ]
     },
     "execution_count": 16,
     "metadata": {},
     "output_type": "execute_result"
    }
   ],
   "source": [
    "my_log([1, 3, 2.5, -1, 9, 0, 2.71])"
   ]
  },
  {
   "cell_type": "markdown",
   "metadata": {},
   "source": [
    "### Задача 4\n",
    "\n",
    "Напишите функцию `binom_prob()`, которая считает вероятность того, что проведя `n` испытаний Бернулли с вероятностью успеха `p`, мы получим ровно `k` успехов. Эта функция принимает на вход три аргумента: `p`, `n` и `k` и возвращает такой результат:\n",
    "\n",
    "$P(X = k) = С_n^k \\cdot p^k \\cdot (1-p)^{n-k}$\n",
    "\n"
   ]
  },
  {
   "cell_type": "markdown",
   "metadata": {},
   "source": [
    "Напишем сначала функцию для вычисления биномиального коэффициента $C_n^k$:\n",
    "\n",
    "$$\n",
    "C_n^k = \\frac{n!}{k!(n-k)! }\n",
    "$$"
   ]
  },
  {
   "cell_type": "code",
   "execution_count": 20,
   "metadata": {},
   "outputs": [],
   "source": [
    "# функция для биномиального коэффициента\n",
    "from math import factorial\n",
    "def binom(n, k):\n",
    "    c = factorial(n) // (factorial(k) * factorial(n - k))\n",
    "    return c"
   ]
  },
  {
   "cell_type": "markdown",
   "metadata": {},
   "source": [
    "Проверим, сколькими способами можно выбрать любых двух человек из шести (порядок выбора не важен) – посчитаем $C_6^2$:"
   ]
  },
  {
   "cell_type": "code",
   "execution_count": 21,
   "metadata": {},
   "outputs": [
    {
     "data": {
      "text/plain": [
       "15"
      ]
     },
     "execution_count": 21,
     "metadata": {},
     "output_type": "execute_result"
    }
   ],
   "source": [
    "binom(6, 2) # 15 способами"
   ]
  },
  {
   "cell_type": "markdown",
   "metadata": {},
   "source": [
    "Напишем теперь функцию для этой задачи:"
   ]
  },
  {
   "cell_type": "code",
   "execution_count": 23,
   "metadata": {},
   "outputs": [],
   "source": [
    "def binom_prob(p, n, k):\n",
    "    r = binom(n, k) * p **k * (1 - p)**(n - k)\n",
    "    return r"
   ]
  },
  {
   "cell_type": "markdown",
   "metadata": {},
   "source": [
    "Применим:"
   ]
  },
  {
   "cell_type": "code",
   "execution_count": 24,
   "metadata": {},
   "outputs": [
    {
     "data": {
      "text/plain": [
       "0.2734375"
      ]
     },
     "execution_count": 24,
     "metadata": {},
     "output_type": "execute_result"
    }
   ],
   "source": [
    "binom_prob(0.5, 7, 4) "
   ]
  },
  {
   "cell_type": "markdown",
   "metadata": {},
   "source": [
    "Если интересно, можно почитать про биномиальное распределение в Python [здесь](https://nbviewer.jupyter.org/github/allatambov/misc/blob/master/binomial-practice.ipynb) – расчет вероятностей и визуализация средствами библиотеки `scipy` и `matplotlib`."
   ]
  }
 ],
 "metadata": {
  "kernelspec": {
   "display_name": "Python 3",
   "language": "python",
   "name": "python3"
  },
  "language_info": {
   "codemirror_mode": {
    "name": "ipython",
    "version": 3
   },
   "file_extension": ".py",
   "mimetype": "text/x-python",
   "name": "python",
   "nbconvert_exporter": "python",
   "pygments_lexer": "ipython3",
   "version": "3.6.8"
  }
 },
 "nbformat": 4,
 "nbformat_minor": 2
}
